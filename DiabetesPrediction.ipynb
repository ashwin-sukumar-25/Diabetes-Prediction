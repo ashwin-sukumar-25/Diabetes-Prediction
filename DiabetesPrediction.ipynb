{
  "cells": [
    {
      "cell_type": "markdown",
      "metadata": {
        "id": "view-in-github",
        "colab_type": "text"
      },
      "source": [
        "<a href=\"https://colab.research.google.com/github/ashwin-sukumar-25/Diabetes-Prediction/blob/main/DiabetesPrediction.ipynb\" target=\"_parent\"><img src=\"https://colab.research.google.com/assets/colab-badge.svg\" alt=\"Open In Colab\"/></a>"
      ]
    },
    {
      "cell_type": "markdown",
      "metadata": {
        "id": "bSJjli59Tw6Q"
      },
      "source": [
        "# New Section"
      ]
    },
    {
      "cell_type": "code",
      "execution_count": 2,
      "metadata": {
        "colab": {
          "base_uri": "https://localhost:8080/"
        },
        "id": "F8NZG3B0-UUE",
        "outputId": "14569d69-8911-48ff-c2fa-a3009696ca65"
      },
      "outputs": [
        {
          "output_type": "stream",
          "name": "stdout",
          "text": [
            "Accuracy: 0.9543\n",
            "\n",
            "Classification Report:\n",
            "               precision    recall  f1-score   support\n",
            "\n",
            "          No       0.97      0.98      0.98     18292\n",
            "         Yes       0.73      0.73      0.73      1708\n",
            "\n",
            "    accuracy                           0.95     20000\n",
            "   macro avg       0.85      0.85      0.85     20000\n",
            "weighted avg       0.95      0.95      0.95     20000\n",
            "\n",
            "\n",
            "Confusion Matrix:\n",
            " [[17844   448]\n",
            " [  466  1242]]\n",
            "Prediction for correct data:\n",
            "Diabetes Prediction: No\n",
            "Prediction for wrong data:\n",
            "Diabetes Prediction: No\n"
          ]
        }
      ],
      "source": [
        "import numpy as np\n",
        "import pandas as pd\n",
        "from sklearn.model_selection import train_test_split\n",
        "from sklearn.preprocessing import StandardScaler\n",
        "from sklearn.ensemble import RandomForestClassifier\n",
        "from sklearn.metrics import accuracy_score, classification_report, confusion_matrix\n",
        "\n",
        "# Load Dataset\n",
        "datasetog = pd.read_csv(\"diabetes_prediction_dataset.csv\")  # Adjust path as needed\n",
        "# Convert categorical variables to numerical using one-hot encoding\n",
        "dataset = pd.get_dummies(datasetog, drop_first=False)\n",
        "# Remove 'gender_Other' as it doesn't provide useful information\n",
        "if 'gender_Other' in dataset.columns:\n",
        "    dataset.drop(columns=['gender_Other'], inplace=True)\n",
        "# Replace 0 and 1 in 'diabetes' column with \"No\" and \"Yes\"\n",
        "dataset[\"diabetes\"] = dataset[\"diabetes\"].replace({0: \"No\", 1: \"Yes\"})\n",
        "# Define features (X) and target (y)\n",
        "X = dataset.drop(\"diabetes\", axis=1)\n",
        "y = dataset[\"diabetes\"]\n",
        "# Split the dataset\n",
        "X_train, X_test, y_train, y_test = train_test_split(X, y, test_size=0.2, random_state=42)\n",
        "# Feature ScalingScaling\n",
        "scaler = StandardScaler()\n",
        "X_train = scaler.fit_transform(X_train)\n",
        "X_test = scaler.transform(X_test)\n",
        "# Train RandomForestClassifier\n",
        "model = RandomForestClassifier(n_estimators=1, random_state=42)\n",
        "model.fit(X_train, y_train)\n",
        "# Make predictions\n",
        "y_pred = model.predict(X_test)\n",
        "# Model Evaluation\n",
        "print(\"Accuracy:\", accuracy_score(y_test, y_pred))\n",
        "print(\"\\nClassification Report:\\n\", classification_report(y_test, y_pred))\n",
        "print(\"\\nConfusion Matrix:\\n\", confusion_matrix(y_test, y_pred, labels=[\"No\", \"Yes\"]))\n",
        "print(\"Prediction for correct data:\")\n",
        "# New data for prediction\n",
        "new_data = pd.DataFrame([[42, 0, 0, 33.64, 4.8, 145, False, True, False, False, False, False, False, True]], columns=X.columns)# Get dynamic input from the user\n",
        "# Apply the same StandardScaler transformation\n",
        "new_data_scaled = scaler.transform(new_data)\n",
        "# Make the prediction\n",
        "prediction = model.predict(new_data_scaled)\n",
        "print(\"Diabetes Prediction:\", prediction[0])\n",
        "print(\"Prediction for wrong data:\")\n",
        "# New data for prediction\n",
        "new_data = pd.DataFrame([[64, 0, 0, 27.32, 6.2, 155, True, False, False, False, False, True, False, False]], columns=X.columns)# Get dynamic input from the user\n",
        "# Apply the same StandardScaler transformation\n",
        "new_data_scaled = scaler.transform(new_data)\n",
        "# Make the prediction\n",
        "prediction = model.predict(new_data_scaled)\n",
        "print(\"Diabetes Prediction:\", prediction[0])"
      ]
    }
  ],
  "metadata": {
    "accelerator": "GPU",
    "colab": {
      "gpuType": "T4",
      "provenance": [],
      "include_colab_link": true
    },
    "kernelspec": {
      "display_name": "Python 3",
      "name": "python3"
    },
    "language_info": {
      "name": "python"
    }
  },
  "nbformat": 4,
  "nbformat_minor": 0
}